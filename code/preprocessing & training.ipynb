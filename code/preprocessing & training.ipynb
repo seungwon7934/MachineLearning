{
 "cells": [
  {
   "cell_type": "code",
   "execution_count": 1,
   "id": "0b730e7a",
   "metadata": {
    "scrolled": false
   },
   "outputs": [
    {
     "name": "stdout",
     "output_type": "stream",
     "text": [
      "Collecting scikit-surprise\n",
      "  Downloading scikit-surprise-1.1.3.tar.gz (771 kB)\n",
      "\u001b[2K     \u001b[90m━━━━━━━━━━━━━━━━━━━━━━━━━━━━━━━━━━━━━━\u001b[0m \u001b[32m772.0/772.0 kB\u001b[0m \u001b[31m18.0 MB/s\u001b[0m eta \u001b[36m0:00:00\u001b[0m00:01\u001b[0m\n",
      "\u001b[?25h  Preparing metadata (setup.py) ... \u001b[?25ldone\n",
      "\u001b[?25hRequirement already satisfied: joblib>=1.0.0 in /home/ec2-user/anaconda3/envs/tensorflow2_p310/lib/python3.10/site-packages (from scikit-surprise) (1.3.2)\n",
      "Requirement already satisfied: numpy>=1.17.3 in /home/ec2-user/anaconda3/envs/tensorflow2_p310/lib/python3.10/site-packages (from scikit-surprise) (1.26.1)\n",
      "Requirement already satisfied: scipy>=1.3.2 in /home/ec2-user/anaconda3/envs/tensorflow2_p310/lib/python3.10/site-packages (from scikit-surprise) (1.11.3)\n",
      "Building wheels for collected packages: scikit-surprise\n",
      "  Building wheel for scikit-surprise (setup.py) ... \u001b[?25ldone\n",
      "\u001b[?25h  Created wheel for scikit-surprise: filename=scikit_surprise-1.1.3-cp310-cp310-linux_x86_64.whl size=1381417 sha256=b138cead3d4bc2e9b9e53b501a9247d928d4ec0bcfe0b8155f8385360212cb39\n",
      "  Stored in directory: /home/ec2-user/.cache/pip/wheels/a5/ca/a8/4e28def53797fdc4363ca4af740db15a9c2f1595ebc51fb445\n",
      "Successfully built scikit-surprise\n",
      "Installing collected packages: scikit-surprise\n",
      "Successfully installed scikit-surprise-1.1.3\n"
     ]
    }
   ],
   "source": [
    "# Surprise 라이브러리 설치\n",
    "!pip install scikit-surprise"
   ]
  },
  {
   "cell_type": "code",
   "execution_count": 2,
   "id": "eb4fd51d",
   "metadata": {},
   "outputs": [
    {
     "name": "stdout",
     "output_type": "stream",
     "text": [
      "sagemaker.config INFO - Not applying SDK defaults from location: /etc/xdg/sagemaker/config.yaml\n",
      "sagemaker.config INFO - Not applying SDK defaults from location: /home/ec2-user/.config/sagemaker/config.yaml\n"
     ]
    }
   ],
   "source": [
    "# Requirements\n",
    "import os\n",
    "import boto3\n",
    "import sagemaker\n",
    "import numpy as np\n",
    "import pandas as pd\n",
    "import sys\n",
    "import joblib\n",
    "from tqdm import tqdm\n",
    "from scipy.sparse import csr_matrix\n",
    "from sklearn.metrics.pairwise import pairwise_distances\n",
    "from surprise import Dataset, Reader, KNNBasic\n",
    "from surprise.model_selection import cross_validate, train_test_split, KFold\n",
    "from surprise import accuracy\n",
    "from surprise import AlgoBase\n",
    "from surprise.prediction_algorithms.predictions import Prediction\n",
    "from surprise.trainset import Trainset\n",
    "from surprise import PredictionImpossible\n",
    "from sklearn.metrics.pairwise import cosine_similarity\n",
    "import sagemaker\n",
    "from sagemaker import get_execution_role\n",
    "from sagemaker.amazon.amazon_estimator import get_image_uri\n",
    "from sagemaker.tensorflow import TensorFlow\n",
    "from sagemaker.model import Model\n",
    "from sagemaker.sklearn.model import SKLearnModel"
   ]
  },
  {
   "cell_type": "code",
   "execution_count": null,
   "id": "ff4b2783",
   "metadata": {},
   "outputs": [],
   "source": []
  },
  {
   "cell_type": "code",
   "execution_count": 26,
   "id": "c84ccf91",
   "metadata": {},
   "outputs": [],
   "source": [
    "# 데이터셋 로드\n",
    "df = pd.read_csv('./data/restaurant_rating_dataset.csv')"
   ]
  },
  {
   "cell_type": "code",
   "execution_count": 55,
   "id": "8d8f4ad3",
   "metadata": {},
   "outputs": [],
   "source": [
    "# 상위 5000개 business와 상위 5000개의 user 데이터를 선택\n",
    "top_businesses = df['business']\n",
    "top_users = df['user'].value_counts().index[:10000]"
   ]
  },
  {
   "cell_type": "code",
   "execution_count": 56,
   "id": "3d03418c",
   "metadata": {},
   "outputs": [],
   "source": [
    "# 'business'가 상위 15,000개 중 하나이고 'user'가 상위 10,000개 중 하나인 행들만을 유지\n",
    "df = df[df['business'].isin(top_businesses) & df['user'].isin(top_users)]"
   ]
  },
  {
   "cell_type": "code",
   "execution_count": 58,
   "id": "d8e70350",
   "metadata": {},
   "outputs": [
    {
     "name": "stderr",
     "output_type": "stream",
     "text": [
      "/tmp/ipykernel_7692/3049391663.py:4: DtypeWarning: Columns (12) have mixed types. Specify dtype option on import or set low_memory=False.\n",
      "  rest_df = pd.read_csv('./data/preprocessed-meta-California.csv')\n"
     ]
    }
   ],
   "source": [
    "# Load data\n",
    "business_df = pd.read_csv('./data/restaurant_unique_business.csv')\n",
    "user_df = pd.read_csv('./data/restaurant_unique_user.csv')\n",
    "rest_df = pd.read_csv('./data/preprocessed-meta-California.csv')"
   ]
  },
  {
   "cell_type": "code",
   "execution_count": 62,
   "id": "c8def527",
   "metadata": {},
   "outputs": [],
   "source": [
    "# Merge recommend_df with business_series based on the business column\n",
    "result_df = pd.merge(df, business_df, how='left', left_on='business', right_index=True)"
   ]
  },
  {
   "cell_type": "code",
   "execution_count": 64,
   "id": "a02500b0",
   "metadata": {},
   "outputs": [
    {
     "data": {
      "text/html": [
       "<div>\n",
       "<style scoped>\n",
       "    .dataframe tbody tr th:only-of-type {\n",
       "        vertical-align: middle;\n",
       "    }\n",
       "\n",
       "    .dataframe tbody tr th {\n",
       "        vertical-align: top;\n",
       "    }\n",
       "\n",
       "    .dataframe thead th {\n",
       "        text-align: right;\n",
       "    }\n",
       "</style>\n",
       "<table border=\"1\" class=\"dataframe\">\n",
       "  <thead>\n",
       "    <tr style=\"text-align: right;\">\n",
       "      <th></th>\n",
       "      <th>business_x</th>\n",
       "      <th>user</th>\n",
       "      <th>rating</th>\n",
       "      <th>index</th>\n",
       "      <th>business_y</th>\n",
       "    </tr>\n",
       "  </thead>\n",
       "  <tbody>\n",
       "    <tr>\n",
       "      <th>247546</th>\n",
       "      <td>7332</td>\n",
       "      <td>10610</td>\n",
       "      <td>5</td>\n",
       "      <td>7332</td>\n",
       "      <td>0x80c2c7b4901ce7c7:0x2ad996c9a82b097c</td>\n",
       "    </tr>\n",
       "    <tr>\n",
       "      <th>247771</th>\n",
       "      <td>7332</td>\n",
       "      <td>120111</td>\n",
       "      <td>5</td>\n",
       "      <td>7332</td>\n",
       "      <td>0x80c2c7b4901ce7c7:0x2ad996c9a82b097c</td>\n",
       "    </tr>\n",
       "    <tr>\n",
       "      <th>247827</th>\n",
       "      <td>7332</td>\n",
       "      <td>15439</td>\n",
       "      <td>5</td>\n",
       "      <td>7332</td>\n",
       "      <td>0x80c2c7b4901ce7c7:0x2ad996c9a82b097c</td>\n",
       "    </tr>\n",
       "    <tr>\n",
       "      <th>247904</th>\n",
       "      <td>7332</td>\n",
       "      <td>15581</td>\n",
       "      <td>4</td>\n",
       "      <td>7332</td>\n",
       "      <td>0x80c2c7b4901ce7c7:0x2ad996c9a82b097c</td>\n",
       "    </tr>\n",
       "    <tr>\n",
       "      <th>247918</th>\n",
       "      <td>7332</td>\n",
       "      <td>222497</td>\n",
       "      <td>4</td>\n",
       "      <td>7332</td>\n",
       "      <td>0x80c2c7b4901ce7c7:0x2ad996c9a82b097c</td>\n",
       "    </tr>\n",
       "    <tr>\n",
       "      <th>...</th>\n",
       "      <td>...</td>\n",
       "      <td>...</td>\n",
       "      <td>...</td>\n",
       "      <td>...</td>\n",
       "      <td>...</td>\n",
       "    </tr>\n",
       "    <tr>\n",
       "      <th>29074905</th>\n",
       "      <td>80633</td>\n",
       "      <td>48862</td>\n",
       "      <td>5</td>\n",
       "      <td>80633</td>\n",
       "      <td>0x80dd3125a85f8ef3:0x13a546608196176c</td>\n",
       "    </tr>\n",
       "    <tr>\n",
       "      <th>29074918</th>\n",
       "      <td>80633</td>\n",
       "      <td>13085</td>\n",
       "      <td>5</td>\n",
       "      <td>80633</td>\n",
       "      <td>0x80dd3125a85f8ef3:0x13a546608196176c</td>\n",
       "    </tr>\n",
       "    <tr>\n",
       "      <th>29074962</th>\n",
       "      <td>80633</td>\n",
       "      <td>132256</td>\n",
       "      <td>4</td>\n",
       "      <td>80633</td>\n",
       "      <td>0x80dd3125a85f8ef3:0x13a546608196176c</td>\n",
       "    </tr>\n",
       "    <tr>\n",
       "      <th>29074980</th>\n",
       "      <td>80633</td>\n",
       "      <td>43306</td>\n",
       "      <td>5</td>\n",
       "      <td>80633</td>\n",
       "      <td>0x80dd3125a85f8ef3:0x13a546608196176c</td>\n",
       "    </tr>\n",
       "    <tr>\n",
       "      <th>29075007</th>\n",
       "      <td>80633</td>\n",
       "      <td>201798</td>\n",
       "      <td>4</td>\n",
       "      <td>80633</td>\n",
       "      <td>0x80dd3125a85f8ef3:0x13a546608196176c</td>\n",
       "    </tr>\n",
       "  </tbody>\n",
       "</table>\n",
       "<p>111897 rows × 5 columns</p>\n",
       "</div>"
      ],
      "text/plain": [
       "          business_x    user  rating  index  \\\n",
       "247546          7332   10610       5   7332   \n",
       "247771          7332  120111       5   7332   \n",
       "247827          7332   15439       5   7332   \n",
       "247904          7332   15581       4   7332   \n",
       "247918          7332  222497       4   7332   \n",
       "...              ...     ...     ...    ...   \n",
       "29074905       80633   48862       5  80633   \n",
       "29074918       80633   13085       5  80633   \n",
       "29074962       80633  132256       4  80633   \n",
       "29074980       80633   43306       5  80633   \n",
       "29075007       80633  201798       4  80633   \n",
       "\n",
       "                                     business_y  \n",
       "247546    0x80c2c7b4901ce7c7:0x2ad996c9a82b097c  \n",
       "247771    0x80c2c7b4901ce7c7:0x2ad996c9a82b097c  \n",
       "247827    0x80c2c7b4901ce7c7:0x2ad996c9a82b097c  \n",
       "247904    0x80c2c7b4901ce7c7:0x2ad996c9a82b097c  \n",
       "247918    0x80c2c7b4901ce7c7:0x2ad996c9a82b097c  \n",
       "...                                         ...  \n",
       "29074905  0x80dd3125a85f8ef3:0x13a546608196176c  \n",
       "29074918  0x80dd3125a85f8ef3:0x13a546608196176c  \n",
       "29074962  0x80dd3125a85f8ef3:0x13a546608196176c  \n",
       "29074980  0x80dd3125a85f8ef3:0x13a546608196176c  \n",
       "29075007  0x80dd3125a85f8ef3:0x13a546608196176c  \n",
       "\n",
       "[111897 rows x 5 columns]"
      ]
     },
     "execution_count": 64,
     "metadata": {},
     "output_type": "execute_result"
    }
   ],
   "source": [
    "result_df"
   ]
  },
  {
   "cell_type": "code",
   "execution_count": 65,
   "id": "5d8c056b",
   "metadata": {},
   "outputs": [],
   "source": [
    "# 'business' 컬럼을 인덱스로 설정\n",
    "result_df.set_index('business_x', inplace=True)\n",
    "\n",
    "# 인덱스를 열로 변환\n",
    "result_df.reset_index(inplace=True)\n",
    "\n",
    "# 'business' 컬럼의 데이터 타입을 문자열로 변환\n",
    "result_df['business_x'] = result_df['business_x'].astype(str)"
   ]
  },
  {
   "cell_type": "code",
   "execution_count": 66,
   "id": "fada91e9",
   "metadata": {},
   "outputs": [],
   "source": [
    "# Merge recommend_df and rest_df based on the common column\n",
    "result_df_2 = pd.merge(result_df, rest_df, how='left', left_on='business_y', right_on='gmap_id')"
   ]
  },
  {
   "cell_type": "code",
   "execution_count": 67,
   "id": "58080615",
   "metadata": {},
   "outputs": [
    {
     "data": {
      "text/html": [
       "<div>\n",
       "<style scoped>\n",
       "    .dataframe tbody tr th:only-of-type {\n",
       "        vertical-align: middle;\n",
       "    }\n",
       "\n",
       "    .dataframe tbody tr th {\n",
       "        vertical-align: top;\n",
       "    }\n",
       "\n",
       "    .dataframe thead th {\n",
       "        text-align: right;\n",
       "    }\n",
       "</style>\n",
       "<table border=\"1\" class=\"dataframe\">\n",
       "  <thead>\n",
       "    <tr style=\"text-align: right;\">\n",
       "      <th></th>\n",
       "      <th>business_x</th>\n",
       "      <th>user</th>\n",
       "      <th>rating</th>\n",
       "      <th>index</th>\n",
       "      <th>business_y</th>\n",
       "      <th>name</th>\n",
       "      <th>address</th>\n",
       "      <th>gmap_id</th>\n",
       "      <th>description</th>\n",
       "      <th>latitude</th>\n",
       "      <th>longitude</th>\n",
       "      <th>category</th>\n",
       "      <th>avg_rating</th>\n",
       "      <th>num_of_reviews</th>\n",
       "      <th>price</th>\n",
       "      <th>hours</th>\n",
       "      <th>MISC</th>\n",
       "      <th>state</th>\n",
       "      <th>relative_results</th>\n",
       "      <th>url</th>\n",
       "    </tr>\n",
       "  </thead>\n",
       "  <tbody>\n",
       "    <tr>\n",
       "      <th>0</th>\n",
       "      <td>7332</td>\n",
       "      <td>10610</td>\n",
       "      <td>5</td>\n",
       "      <td>7332</td>\n",
       "      <td>0x80c2c7b4901ce7c7:0x2ad996c9a82b097c</td>\n",
       "      <td>Water Grill</td>\n",
       "      <td>Water Grill, 544 S Grand Ave, Los Angeles, CA ...</td>\n",
       "      <td>0x80c2c7b4901ce7c7:0x2ad996c9a82b097c</td>\n",
       "      <td>Downtown landmark presents a wide array of del...</td>\n",
       "      <td>34.049040</td>\n",
       "      <td>-118.254707</td>\n",
       "      <td>['Seafood restaurant']</td>\n",
       "      <td>4.4</td>\n",
       "      <td>1378</td>\n",
       "      <td>$$$</td>\n",
       "      <td>[['Monday', '11:30AM–9PM'], ['Tuesday', '11:30...</td>\n",
       "      <td>{'Service options': ['Takeaway', 'Dine-in', 'D...</td>\n",
       "      <td>Open ⋅ Closes 9PM</td>\n",
       "      <td>['0x80c2c7b14dfa1c77:0x292681801d633db0', '0x8...</td>\n",
       "      <td>https://www.google.com/maps/place//data=!4m2!3...</td>\n",
       "    </tr>\n",
       "    <tr>\n",
       "      <th>1</th>\n",
       "      <td>7332</td>\n",
       "      <td>120111</td>\n",
       "      <td>5</td>\n",
       "      <td>7332</td>\n",
       "      <td>0x80c2c7b4901ce7c7:0x2ad996c9a82b097c</td>\n",
       "      <td>Water Grill</td>\n",
       "      <td>Water Grill, 544 S Grand Ave, Los Angeles, CA ...</td>\n",
       "      <td>0x80c2c7b4901ce7c7:0x2ad996c9a82b097c</td>\n",
       "      <td>Downtown landmark presents a wide array of del...</td>\n",
       "      <td>34.049040</td>\n",
       "      <td>-118.254707</td>\n",
       "      <td>['Seafood restaurant']</td>\n",
       "      <td>4.4</td>\n",
       "      <td>1378</td>\n",
       "      <td>$$$</td>\n",
       "      <td>[['Monday', '11:30AM–9PM'], ['Tuesday', '11:30...</td>\n",
       "      <td>{'Service options': ['Takeaway', 'Dine-in', 'D...</td>\n",
       "      <td>Open ⋅ Closes 9PM</td>\n",
       "      <td>['0x80c2c7b14dfa1c77:0x292681801d633db0', '0x8...</td>\n",
       "      <td>https://www.google.com/maps/place//data=!4m2!3...</td>\n",
       "    </tr>\n",
       "    <tr>\n",
       "      <th>2</th>\n",
       "      <td>7332</td>\n",
       "      <td>15439</td>\n",
       "      <td>5</td>\n",
       "      <td>7332</td>\n",
       "      <td>0x80c2c7b4901ce7c7:0x2ad996c9a82b097c</td>\n",
       "      <td>Water Grill</td>\n",
       "      <td>Water Grill, 544 S Grand Ave, Los Angeles, CA ...</td>\n",
       "      <td>0x80c2c7b4901ce7c7:0x2ad996c9a82b097c</td>\n",
       "      <td>Downtown landmark presents a wide array of del...</td>\n",
       "      <td>34.049040</td>\n",
       "      <td>-118.254707</td>\n",
       "      <td>['Seafood restaurant']</td>\n",
       "      <td>4.4</td>\n",
       "      <td>1378</td>\n",
       "      <td>$$$</td>\n",
       "      <td>[['Monday', '11:30AM–9PM'], ['Tuesday', '11:30...</td>\n",
       "      <td>{'Service options': ['Takeaway', 'Dine-in', 'D...</td>\n",
       "      <td>Open ⋅ Closes 9PM</td>\n",
       "      <td>['0x80c2c7b14dfa1c77:0x292681801d633db0', '0x8...</td>\n",
       "      <td>https://www.google.com/maps/place//data=!4m2!3...</td>\n",
       "    </tr>\n",
       "    <tr>\n",
       "      <th>3</th>\n",
       "      <td>7332</td>\n",
       "      <td>15581</td>\n",
       "      <td>4</td>\n",
       "      <td>7332</td>\n",
       "      <td>0x80c2c7b4901ce7c7:0x2ad996c9a82b097c</td>\n",
       "      <td>Water Grill</td>\n",
       "      <td>Water Grill, 544 S Grand Ave, Los Angeles, CA ...</td>\n",
       "      <td>0x80c2c7b4901ce7c7:0x2ad996c9a82b097c</td>\n",
       "      <td>Downtown landmark presents a wide array of del...</td>\n",
       "      <td>34.049040</td>\n",
       "      <td>-118.254707</td>\n",
       "      <td>['Seafood restaurant']</td>\n",
       "      <td>4.4</td>\n",
       "      <td>1378</td>\n",
       "      <td>$$$</td>\n",
       "      <td>[['Monday', '11:30AM–9PM'], ['Tuesday', '11:30...</td>\n",
       "      <td>{'Service options': ['Takeaway', 'Dine-in', 'D...</td>\n",
       "      <td>Open ⋅ Closes 9PM</td>\n",
       "      <td>['0x80c2c7b14dfa1c77:0x292681801d633db0', '0x8...</td>\n",
       "      <td>https://www.google.com/maps/place//data=!4m2!3...</td>\n",
       "    </tr>\n",
       "    <tr>\n",
       "      <th>4</th>\n",
       "      <td>7332</td>\n",
       "      <td>222497</td>\n",
       "      <td>4</td>\n",
       "      <td>7332</td>\n",
       "      <td>0x80c2c7b4901ce7c7:0x2ad996c9a82b097c</td>\n",
       "      <td>Water Grill</td>\n",
       "      <td>Water Grill, 544 S Grand Ave, Los Angeles, CA ...</td>\n",
       "      <td>0x80c2c7b4901ce7c7:0x2ad996c9a82b097c</td>\n",
       "      <td>Downtown landmark presents a wide array of del...</td>\n",
       "      <td>34.049040</td>\n",
       "      <td>-118.254707</td>\n",
       "      <td>['Seafood restaurant']</td>\n",
       "      <td>4.4</td>\n",
       "      <td>1378</td>\n",
       "      <td>$$$</td>\n",
       "      <td>[['Monday', '11:30AM–9PM'], ['Tuesday', '11:30...</td>\n",
       "      <td>{'Service options': ['Takeaway', 'Dine-in', 'D...</td>\n",
       "      <td>Open ⋅ Closes 9PM</td>\n",
       "      <td>['0x80c2c7b14dfa1c77:0x292681801d633db0', '0x8...</td>\n",
       "      <td>https://www.google.com/maps/place//data=!4m2!3...</td>\n",
       "    </tr>\n",
       "    <tr>\n",
       "      <th>...</th>\n",
       "      <td>...</td>\n",
       "      <td>...</td>\n",
       "      <td>...</td>\n",
       "      <td>...</td>\n",
       "      <td>...</td>\n",
       "      <td>...</td>\n",
       "      <td>...</td>\n",
       "      <td>...</td>\n",
       "      <td>...</td>\n",
       "      <td>...</td>\n",
       "      <td>...</td>\n",
       "      <td>...</td>\n",
       "      <td>...</td>\n",
       "      <td>...</td>\n",
       "      <td>...</td>\n",
       "      <td>...</td>\n",
       "      <td>...</td>\n",
       "      <td>...</td>\n",
       "      <td>...</td>\n",
       "      <td>...</td>\n",
       "    </tr>\n",
       "    <tr>\n",
       "      <th>111892</th>\n",
       "      <td>80633</td>\n",
       "      <td>48862</td>\n",
       "      <td>5</td>\n",
       "      <td>80633</td>\n",
       "      <td>0x80dd3125a85f8ef3:0x13a546608196176c</td>\n",
       "      <td>Parkers' Lighthouse</td>\n",
       "      <td>Parkers' Lighthouse, 435 Shoreline Village Dri...</td>\n",
       "      <td>0x80dd3125a85f8ef3:0x13a546608196176c</td>\n",
       "      <td>Mesquite-grilled seafood, sushi, steaks &amp; a ro...</td>\n",
       "      <td>33.759861</td>\n",
       "      <td>-118.191797</td>\n",
       "      <td>['Seafood restaurant', 'Bar', 'Diner', 'Lounge...</td>\n",
       "      <td>4.5</td>\n",
       "      <td>1880</td>\n",
       "      <td>$$$</td>\n",
       "      <td>[['Wednesday', '11:30AM–3PM'], ['Thursday', '1...</td>\n",
       "      <td>{'Service options': ['Outdoor seating', 'Curbs...</td>\n",
       "      <td>NaN</td>\n",
       "      <td>['0x80dd3125a8dd68e1:0xcadaa87a95de641f', '0x8...</td>\n",
       "      <td>https://www.google.com/maps/place//data=!4m2!3...</td>\n",
       "    </tr>\n",
       "    <tr>\n",
       "      <th>111893</th>\n",
       "      <td>80633</td>\n",
       "      <td>13085</td>\n",
       "      <td>5</td>\n",
       "      <td>80633</td>\n",
       "      <td>0x80dd3125a85f8ef3:0x13a546608196176c</td>\n",
       "      <td>Parkers' Lighthouse</td>\n",
       "      <td>Parkers' Lighthouse, 435 Shoreline Village Dri...</td>\n",
       "      <td>0x80dd3125a85f8ef3:0x13a546608196176c</td>\n",
       "      <td>Mesquite-grilled seafood, sushi, steaks &amp; a ro...</td>\n",
       "      <td>33.759861</td>\n",
       "      <td>-118.191797</td>\n",
       "      <td>['Seafood restaurant', 'Bar', 'Diner', 'Lounge...</td>\n",
       "      <td>4.5</td>\n",
       "      <td>1880</td>\n",
       "      <td>$$$</td>\n",
       "      <td>[['Wednesday', '11:30AM–3PM'], ['Thursday', '1...</td>\n",
       "      <td>{'Service options': ['Outdoor seating', 'Curbs...</td>\n",
       "      <td>NaN</td>\n",
       "      <td>['0x80dd3125a8dd68e1:0xcadaa87a95de641f', '0x8...</td>\n",
       "      <td>https://www.google.com/maps/place//data=!4m2!3...</td>\n",
       "    </tr>\n",
       "    <tr>\n",
       "      <th>111894</th>\n",
       "      <td>80633</td>\n",
       "      <td>132256</td>\n",
       "      <td>4</td>\n",
       "      <td>80633</td>\n",
       "      <td>0x80dd3125a85f8ef3:0x13a546608196176c</td>\n",
       "      <td>Parkers' Lighthouse</td>\n",
       "      <td>Parkers' Lighthouse, 435 Shoreline Village Dri...</td>\n",
       "      <td>0x80dd3125a85f8ef3:0x13a546608196176c</td>\n",
       "      <td>Mesquite-grilled seafood, sushi, steaks &amp; a ro...</td>\n",
       "      <td>33.759861</td>\n",
       "      <td>-118.191797</td>\n",
       "      <td>['Seafood restaurant', 'Bar', 'Diner', 'Lounge...</td>\n",
       "      <td>4.5</td>\n",
       "      <td>1880</td>\n",
       "      <td>$$$</td>\n",
       "      <td>[['Wednesday', '11:30AM–3PM'], ['Thursday', '1...</td>\n",
       "      <td>{'Service options': ['Outdoor seating', 'Curbs...</td>\n",
       "      <td>NaN</td>\n",
       "      <td>['0x80dd3125a8dd68e1:0xcadaa87a95de641f', '0x8...</td>\n",
       "      <td>https://www.google.com/maps/place//data=!4m2!3...</td>\n",
       "    </tr>\n",
       "    <tr>\n",
       "      <th>111895</th>\n",
       "      <td>80633</td>\n",
       "      <td>43306</td>\n",
       "      <td>5</td>\n",
       "      <td>80633</td>\n",
       "      <td>0x80dd3125a85f8ef3:0x13a546608196176c</td>\n",
       "      <td>Parkers' Lighthouse</td>\n",
       "      <td>Parkers' Lighthouse, 435 Shoreline Village Dri...</td>\n",
       "      <td>0x80dd3125a85f8ef3:0x13a546608196176c</td>\n",
       "      <td>Mesquite-grilled seafood, sushi, steaks &amp; a ro...</td>\n",
       "      <td>33.759861</td>\n",
       "      <td>-118.191797</td>\n",
       "      <td>['Seafood restaurant', 'Bar', 'Diner', 'Lounge...</td>\n",
       "      <td>4.5</td>\n",
       "      <td>1880</td>\n",
       "      <td>$$$</td>\n",
       "      <td>[['Wednesday', '11:30AM–3PM'], ['Thursday', '1...</td>\n",
       "      <td>{'Service options': ['Outdoor seating', 'Curbs...</td>\n",
       "      <td>NaN</td>\n",
       "      <td>['0x80dd3125a8dd68e1:0xcadaa87a95de641f', '0x8...</td>\n",
       "      <td>https://www.google.com/maps/place//data=!4m2!3...</td>\n",
       "    </tr>\n",
       "    <tr>\n",
       "      <th>111896</th>\n",
       "      <td>80633</td>\n",
       "      <td>201798</td>\n",
       "      <td>4</td>\n",
       "      <td>80633</td>\n",
       "      <td>0x80dd3125a85f8ef3:0x13a546608196176c</td>\n",
       "      <td>Parkers' Lighthouse</td>\n",
       "      <td>Parkers' Lighthouse, 435 Shoreline Village Dri...</td>\n",
       "      <td>0x80dd3125a85f8ef3:0x13a546608196176c</td>\n",
       "      <td>Mesquite-grilled seafood, sushi, steaks &amp; a ro...</td>\n",
       "      <td>33.759861</td>\n",
       "      <td>-118.191797</td>\n",
       "      <td>['Seafood restaurant', 'Bar', 'Diner', 'Lounge...</td>\n",
       "      <td>4.5</td>\n",
       "      <td>1880</td>\n",
       "      <td>$$$</td>\n",
       "      <td>[['Wednesday', '11:30AM–3PM'], ['Thursday', '1...</td>\n",
       "      <td>{'Service options': ['Outdoor seating', 'Curbs...</td>\n",
       "      <td>NaN</td>\n",
       "      <td>['0x80dd3125a8dd68e1:0xcadaa87a95de641f', '0x8...</td>\n",
       "      <td>https://www.google.com/maps/place//data=!4m2!3...</td>\n",
       "    </tr>\n",
       "  </tbody>\n",
       "</table>\n",
       "<p>111897 rows × 20 columns</p>\n",
       "</div>"
      ],
      "text/plain": [
       "       business_x    user  rating  index  \\\n",
       "0            7332   10610       5   7332   \n",
       "1            7332  120111       5   7332   \n",
       "2            7332   15439       5   7332   \n",
       "3            7332   15581       4   7332   \n",
       "4            7332  222497       4   7332   \n",
       "...           ...     ...     ...    ...   \n",
       "111892      80633   48862       5  80633   \n",
       "111893      80633   13085       5  80633   \n",
       "111894      80633  132256       4  80633   \n",
       "111895      80633   43306       5  80633   \n",
       "111896      80633  201798       4  80633   \n",
       "\n",
       "                                   business_y                 name  \\\n",
       "0       0x80c2c7b4901ce7c7:0x2ad996c9a82b097c          Water Grill   \n",
       "1       0x80c2c7b4901ce7c7:0x2ad996c9a82b097c          Water Grill   \n",
       "2       0x80c2c7b4901ce7c7:0x2ad996c9a82b097c          Water Grill   \n",
       "3       0x80c2c7b4901ce7c7:0x2ad996c9a82b097c          Water Grill   \n",
       "4       0x80c2c7b4901ce7c7:0x2ad996c9a82b097c          Water Grill   \n",
       "...                                       ...                  ...   \n",
       "111892  0x80dd3125a85f8ef3:0x13a546608196176c  Parkers' Lighthouse   \n",
       "111893  0x80dd3125a85f8ef3:0x13a546608196176c  Parkers' Lighthouse   \n",
       "111894  0x80dd3125a85f8ef3:0x13a546608196176c  Parkers' Lighthouse   \n",
       "111895  0x80dd3125a85f8ef3:0x13a546608196176c  Parkers' Lighthouse   \n",
       "111896  0x80dd3125a85f8ef3:0x13a546608196176c  Parkers' Lighthouse   \n",
       "\n",
       "                                                  address  \\\n",
       "0       Water Grill, 544 S Grand Ave, Los Angeles, CA ...   \n",
       "1       Water Grill, 544 S Grand Ave, Los Angeles, CA ...   \n",
       "2       Water Grill, 544 S Grand Ave, Los Angeles, CA ...   \n",
       "3       Water Grill, 544 S Grand Ave, Los Angeles, CA ...   \n",
       "4       Water Grill, 544 S Grand Ave, Los Angeles, CA ...   \n",
       "...                                                   ...   \n",
       "111892  Parkers' Lighthouse, 435 Shoreline Village Dri...   \n",
       "111893  Parkers' Lighthouse, 435 Shoreline Village Dri...   \n",
       "111894  Parkers' Lighthouse, 435 Shoreline Village Dri...   \n",
       "111895  Parkers' Lighthouse, 435 Shoreline Village Dri...   \n",
       "111896  Parkers' Lighthouse, 435 Shoreline Village Dri...   \n",
       "\n",
       "                                      gmap_id  \\\n",
       "0       0x80c2c7b4901ce7c7:0x2ad996c9a82b097c   \n",
       "1       0x80c2c7b4901ce7c7:0x2ad996c9a82b097c   \n",
       "2       0x80c2c7b4901ce7c7:0x2ad996c9a82b097c   \n",
       "3       0x80c2c7b4901ce7c7:0x2ad996c9a82b097c   \n",
       "4       0x80c2c7b4901ce7c7:0x2ad996c9a82b097c   \n",
       "...                                       ...   \n",
       "111892  0x80dd3125a85f8ef3:0x13a546608196176c   \n",
       "111893  0x80dd3125a85f8ef3:0x13a546608196176c   \n",
       "111894  0x80dd3125a85f8ef3:0x13a546608196176c   \n",
       "111895  0x80dd3125a85f8ef3:0x13a546608196176c   \n",
       "111896  0x80dd3125a85f8ef3:0x13a546608196176c   \n",
       "\n",
       "                                              description   latitude  \\\n",
       "0       Downtown landmark presents a wide array of del...  34.049040   \n",
       "1       Downtown landmark presents a wide array of del...  34.049040   \n",
       "2       Downtown landmark presents a wide array of del...  34.049040   \n",
       "3       Downtown landmark presents a wide array of del...  34.049040   \n",
       "4       Downtown landmark presents a wide array of del...  34.049040   \n",
       "...                                                   ...        ...   \n",
       "111892  Mesquite-grilled seafood, sushi, steaks & a ro...  33.759861   \n",
       "111893  Mesquite-grilled seafood, sushi, steaks & a ro...  33.759861   \n",
       "111894  Mesquite-grilled seafood, sushi, steaks & a ro...  33.759861   \n",
       "111895  Mesquite-grilled seafood, sushi, steaks & a ro...  33.759861   \n",
       "111896  Mesquite-grilled seafood, sushi, steaks & a ro...  33.759861   \n",
       "\n",
       "         longitude                                           category  \\\n",
       "0      -118.254707                             ['Seafood restaurant']   \n",
       "1      -118.254707                             ['Seafood restaurant']   \n",
       "2      -118.254707                             ['Seafood restaurant']   \n",
       "3      -118.254707                             ['Seafood restaurant']   \n",
       "4      -118.254707                             ['Seafood restaurant']   \n",
       "...            ...                                                ...   \n",
       "111892 -118.191797  ['Seafood restaurant', 'Bar', 'Diner', 'Lounge...   \n",
       "111893 -118.191797  ['Seafood restaurant', 'Bar', 'Diner', 'Lounge...   \n",
       "111894 -118.191797  ['Seafood restaurant', 'Bar', 'Diner', 'Lounge...   \n",
       "111895 -118.191797  ['Seafood restaurant', 'Bar', 'Diner', 'Lounge...   \n",
       "111896 -118.191797  ['Seafood restaurant', 'Bar', 'Diner', 'Lounge...   \n",
       "\n",
       "        avg_rating  num_of_reviews price  \\\n",
       "0              4.4            1378   $$$   \n",
       "1              4.4            1378   $$$   \n",
       "2              4.4            1378   $$$   \n",
       "3              4.4            1378   $$$   \n",
       "4              4.4            1378   $$$   \n",
       "...            ...             ...   ...   \n",
       "111892         4.5            1880   $$$   \n",
       "111893         4.5            1880   $$$   \n",
       "111894         4.5            1880   $$$   \n",
       "111895         4.5            1880   $$$   \n",
       "111896         4.5            1880   $$$   \n",
       "\n",
       "                                                    hours  \\\n",
       "0       [['Monday', '11:30AM–9PM'], ['Tuesday', '11:30...   \n",
       "1       [['Monday', '11:30AM–9PM'], ['Tuesday', '11:30...   \n",
       "2       [['Monday', '11:30AM–9PM'], ['Tuesday', '11:30...   \n",
       "3       [['Monday', '11:30AM–9PM'], ['Tuesday', '11:30...   \n",
       "4       [['Monday', '11:30AM–9PM'], ['Tuesday', '11:30...   \n",
       "...                                                   ...   \n",
       "111892  [['Wednesday', '11:30AM–3PM'], ['Thursday', '1...   \n",
       "111893  [['Wednesday', '11:30AM–3PM'], ['Thursday', '1...   \n",
       "111894  [['Wednesday', '11:30AM–3PM'], ['Thursday', '1...   \n",
       "111895  [['Wednesday', '11:30AM–3PM'], ['Thursday', '1...   \n",
       "111896  [['Wednesday', '11:30AM–3PM'], ['Thursday', '1...   \n",
       "\n",
       "                                                     MISC              state  \\\n",
       "0       {'Service options': ['Takeaway', 'Dine-in', 'D...  Open ⋅ Closes 9PM   \n",
       "1       {'Service options': ['Takeaway', 'Dine-in', 'D...  Open ⋅ Closes 9PM   \n",
       "2       {'Service options': ['Takeaway', 'Dine-in', 'D...  Open ⋅ Closes 9PM   \n",
       "3       {'Service options': ['Takeaway', 'Dine-in', 'D...  Open ⋅ Closes 9PM   \n",
       "4       {'Service options': ['Takeaway', 'Dine-in', 'D...  Open ⋅ Closes 9PM   \n",
       "...                                                   ...                ...   \n",
       "111892  {'Service options': ['Outdoor seating', 'Curbs...                NaN   \n",
       "111893  {'Service options': ['Outdoor seating', 'Curbs...                NaN   \n",
       "111894  {'Service options': ['Outdoor seating', 'Curbs...                NaN   \n",
       "111895  {'Service options': ['Outdoor seating', 'Curbs...                NaN   \n",
       "111896  {'Service options': ['Outdoor seating', 'Curbs...                NaN   \n",
       "\n",
       "                                         relative_results  \\\n",
       "0       ['0x80c2c7b14dfa1c77:0x292681801d633db0', '0x8...   \n",
       "1       ['0x80c2c7b14dfa1c77:0x292681801d633db0', '0x8...   \n",
       "2       ['0x80c2c7b14dfa1c77:0x292681801d633db0', '0x8...   \n",
       "3       ['0x80c2c7b14dfa1c77:0x292681801d633db0', '0x8...   \n",
       "4       ['0x80c2c7b14dfa1c77:0x292681801d633db0', '0x8...   \n",
       "...                                                   ...   \n",
       "111892  ['0x80dd3125a8dd68e1:0xcadaa87a95de641f', '0x8...   \n",
       "111893  ['0x80dd3125a8dd68e1:0xcadaa87a95de641f', '0x8...   \n",
       "111894  ['0x80dd3125a8dd68e1:0xcadaa87a95de641f', '0x8...   \n",
       "111895  ['0x80dd3125a8dd68e1:0xcadaa87a95de641f', '0x8...   \n",
       "111896  ['0x80dd3125a8dd68e1:0xcadaa87a95de641f', '0x8...   \n",
       "\n",
       "                                                      url  \n",
       "0       https://www.google.com/maps/place//data=!4m2!3...  \n",
       "1       https://www.google.com/maps/place//data=!4m2!3...  \n",
       "2       https://www.google.com/maps/place//data=!4m2!3...  \n",
       "3       https://www.google.com/maps/place//data=!4m2!3...  \n",
       "4       https://www.google.com/maps/place//data=!4m2!3...  \n",
       "...                                                   ...  \n",
       "111892  https://www.google.com/maps/place//data=!4m2!3...  \n",
       "111893  https://www.google.com/maps/place//data=!4m2!3...  \n",
       "111894  https://www.google.com/maps/place//data=!4m2!3...  \n",
       "111895  https://www.google.com/maps/place//data=!4m2!3...  \n",
       "111896  https://www.google.com/maps/place//data=!4m2!3...  \n",
       "\n",
       "[111897 rows x 20 columns]"
      ]
     },
     "execution_count": 67,
     "metadata": {},
     "output_type": "execute_result"
    }
   ],
   "source": [
    "result_df_2"
   ]
  },
  {
   "cell_type": "code",
   "execution_count": 68,
   "id": "7637f6ba",
   "metadata": {},
   "outputs": [
    {
     "name": "stdout",
     "output_type": "stream",
     "text": [
      "<class 'pandas.core.frame.DataFrame'>\n",
      "Int64Index: 111897 entries, 0 to 111896\n",
      "Data columns (total 20 columns):\n",
      " #   Column            Non-Null Count   Dtype  \n",
      "---  ------            --------------   -----  \n",
      " 0   business_x        111897 non-null  object \n",
      " 1   user              111897 non-null  int64  \n",
      " 2   rating            111897 non-null  int64  \n",
      " 3   index             111897 non-null  int64  \n",
      " 4   business_y        111897 non-null  object \n",
      " 5   name              111897 non-null  object \n",
      " 6   address           111897 non-null  object \n",
      " 7   gmap_id           111897 non-null  object \n",
      " 8   description       106900 non-null  object \n",
      " 9   latitude          111897 non-null  float64\n",
      " 10  longitude         111897 non-null  float64\n",
      " 11  category          111897 non-null  object \n",
      " 12  avg_rating        111897 non-null  float64\n",
      " 13  num_of_reviews    111897 non-null  int64  \n",
      " 14  price             101899 non-null  object \n",
      " 15  hours             108976 non-null  object \n",
      " 16  MISC              111441 non-null  object \n",
      " 17  state             31237 non-null   object \n",
      " 18  relative_results  110707 non-null  object \n",
      " 19  url               111897 non-null  object \n",
      "dtypes: float64(3), int64(4), object(13)\n",
      "memory usage: 17.9+ MB\n"
     ]
    }
   ],
   "source": [
    "result_df_2.info()\n",
    "result_df_2.to_csv('./data/top_rest_rating.csv')"
   ]
  },
  {
   "cell_type": "code",
   "execution_count": 30,
   "id": "1ed94d21",
   "metadata": {},
   "outputs": [
    {
     "data": {
      "text/plain": [
       "2"
      ]
     },
     "execution_count": 30,
     "metadata": {},
     "output_type": "execute_result"
    }
   ],
   "source": [
    "df.groupby('user').business.nunique().min()"
   ]
  },
  {
   "cell_type": "code",
   "execution_count": 31,
   "id": "269be347",
   "metadata": {},
   "outputs": [],
   "source": [
    "def train_test_split(df, holdout_num):\n",
    "    \"\"\"\n",
    "    Splits the data into training and testing sets.\n",
    "\n",
    "    @param df The input dataframe\n",
    "    @param holdout_num The number of items to hold out for testing for each user\n",
    "\n",
    "    @return df_train training data\n",
    "    @return df_test testing data\n",
    "    \"\"\"\n",
    "    # Sort the data by 'user' and 'business'\n",
    "    df = df.sort_values(['user', 'business'], ascending=True)\n",
    "\n",
    "    # Select a subset of the data for testing\n",
    "    df_test = df.groupby('user').head(holdout_num)\n",
    "\n",
    "    # The remaining data is used for training\n",
    "    df_train = df[~df.index.isin(df_test.index)]\n",
    "\n",
    "    return df_train, df_test"
   ]
  },
  {
   "cell_type": "code",
   "execution_count": 32,
   "id": "2bee825a",
   "metadata": {},
   "outputs": [],
   "source": [
    "df_train, df_test = train_test_split(df, 10)"
   ]
  },
  {
   "cell_type": "code",
   "execution_count": 33,
   "id": "2599ce7f",
   "metadata": {},
   "outputs": [],
   "source": [
    "def negative_sampling(user_ids, business_ids, items, n_neg):\n",
    "    \"\"\"This function creates n_neg negative labels for every positive label\n",
    "    \n",
    "    @param user_ids: list of user ids\n",
    "    @param movie_ids: list of movie ids\n",
    "    @param items: unique list of movie ids\n",
    "    @param n_neg: number of negative labels to sample\n",
    "    \n",
    "    @return df_neg: negative sample dataframe\n",
    "    \n",
    "    \"\"\"\n",
    "    \n",
    "    neg = []\n",
    "    ui_pairs = zip(user_ids, business_ids)\n",
    "    records = set(ui_pairs)\n",
    "    \n",
    "    # for every positive label case\n",
    "    for (u, i) in records:\n",
    "        # generate n_neg negative labels\n",
    "        for _ in range(n_neg):\n",
    "            # if the randomly sampled movie exists for that user\n",
    "            j = np.random.choice(items)\n",
    "            while(u, j) in records:\n",
    "                # resample\n",
    "                j = np.random.choice(items)\n",
    "            neg.append([u, j, 0])\n",
    "    # conver to pandas dataframe for concatenation later\n",
    "    df_neg = pd.DataFrame(neg, columns=['user', 'business', 'rating'])\n",
    "    \n",
    "    return df_neg"
   ]
  },
  {
   "cell_type": "code",
   "execution_count": 34,
   "id": "3a3b46e6",
   "metadata": {},
   "outputs": [],
   "source": [
    "# create negative samples for training set\n",
    "neg_train = negative_sampling(\n",
    "    user_ids=df_train.user.values, \n",
    "    business_ids=df_train.business.values,\n",
    "    items=df.business.unique(),\n",
    "    n_neg=5\n",
    ")"
   ]
  },
  {
   "cell_type": "code",
   "execution_count": 35,
   "id": "819bd80b",
   "metadata": {},
   "outputs": [
    {
     "name": "stdout",
     "output_type": "stream",
     "text": [
      "created 402,835 negative samples\n"
     ]
    }
   ],
   "source": [
    "print(f'created {neg_train.shape[0]:,} negative samples')"
   ]
  },
  {
   "cell_type": "code",
   "execution_count": 36,
   "id": "b4244d9e",
   "metadata": {},
   "outputs": [],
   "source": [
    "df_train = df_train[['user', 'business']].assign(rating=1)\n",
    "df_test = df_test[['user', 'business']].assign(rating=1)\n",
    "\n",
    "df_train = pd.concat([df_train, neg_train], ignore_index=True)"
   ]
  },
  {
   "cell_type": "code",
   "execution_count": 37,
   "id": "aa81eab8",
   "metadata": {},
   "outputs": [],
   "source": [
    "def get_unique_count(df):\n",
    "    \"\"\"calculate unique user and business counts\"\"\"\n",
    "    return df.user.nunique(), df.business.nunique()"
   ]
  },
  {
   "cell_type": "code",
   "execution_count": 38,
   "id": "2b5421f4",
   "metadata": {},
   "outputs": [
    {
     "data": {
      "text/plain": [
       "(2999, 2999)"
      ]
     },
     "execution_count": 38,
     "metadata": {},
     "output_type": "execute_result"
    }
   ],
   "source": [
    "# unique number of user and movie in the whole dataset\n",
    "get_unique_count(df)"
   ]
  },
  {
   "cell_type": "code",
   "execution_count": 39,
   "id": "93f317ba",
   "metadata": {},
   "outputs": [
    {
     "name": "stdout",
     "output_type": "stream",
     "text": [
      "training set shape (2979, 2999)\n",
      "testing set shape (2999, 1973)\n"
     ]
    }
   ],
   "source": [
    "print('training set shape', get_unique_count(df_train))\n",
    "print('testing set shape', get_unique_count(df_test))"
   ]
  },
  {
   "cell_type": "code",
   "execution_count": 40,
   "id": "b0f48110",
   "metadata": {},
   "outputs": [
    {
     "name": "stdout",
     "output_type": "stream",
     "text": [
      "number of unique users 2979\n",
      "number of unique items 2999\n"
     ]
    }
   ],
   "source": [
    "# number of unique user and number of unique item/movie\n",
    "n_user, n_item = get_unique_count(df_train)\n",
    "\n",
    "print(\"number of unique users\", n_user)\n",
    "print(\"number of unique items\", n_item)"
   ]
  },
  {
   "cell_type": "code",
   "execution_count": 41,
   "id": "cdb2329a",
   "metadata": {},
   "outputs": [
    {
     "name": "stdout",
     "output_type": "stream",
     "text": [
      "Stored 'n_user' (int)\n",
      "Stored 'n_item' (int)\n"
     ]
    }
   ],
   "source": [
    "# save the variable for the model training notebook\n",
    "# -----\n",
    "# read about `store` magic here: \n",
    "# https://ipython.readthedocs.io/en/stable/config/extensions/storemagic.html\n",
    "\n",
    "%store n_user\n",
    "%store n_item"
   ]
  },
  {
   "cell_type": "code",
   "execution_count": 42,
   "id": "5e93e613",
   "metadata": {},
   "outputs": [
    {
     "name": "stdout",
     "output_type": "stream",
     "text": [
      "currently in ap-northeast-2\n"
     ]
    }
   ],
   "source": [
    "# get current session region\n",
    "session = boto3.session.Session()\n",
    "region = session.region_name\n",
    "print(f'currently in {region}')"
   ]
  },
  {
   "cell_type": "code",
   "execution_count": 43,
   "id": "7e261e05",
   "metadata": {},
   "outputs": [
    {
     "name": "stdout",
     "output_type": "stream",
     "text": [
      "sagemaker.config INFO - Not applying SDK defaults from location: /etc/xdg/sagemaker/config.yaml\n",
      "sagemaker.config INFO - Not applying SDK defaults from location: /home/ec2-user/.config/sagemaker/config.yaml\n",
      "sagemaker-ap-northeast-2-629515838455\n",
      "Stored 'bucket_name' (str)\n"
     ]
    }
   ],
   "source": [
    "# 처리된 데이터를 저장하기 위해서 기본 sagemaker s3 버킷을 사용합니다. \n",
    "# 여기서는 기본 버킷 이름이 다음의 코드가 나타냅니다. \n",
    "sagemaker_session = sagemaker.Session()\n",
    "bucket_name = sagemaker_session.default_bucket()\n",
    "print(bucket_name)  \n",
    "# bucket name format: \"sagemaker-{region}-{aws_account_id}\"\n",
    "%store bucket_name"
   ]
  },
  {
   "cell_type": "code",
   "execution_count": 46,
   "id": "aa5f434e",
   "metadata": {},
   "outputs": [
    {
     "name": "stdout",
     "output_type": "stream",
     "text": [
      "sagemaker.config INFO - Not applying SDK defaults from location: /etc/xdg/sagemaker/config.yaml\n",
      "sagemaker.config INFO - Not applying SDK defaults from location: /home/ec2-user/.config/sagemaker/config.yaml\n",
      "gcu-sg02-002\n",
      "Stored 'bucket_name' (str)\n"
     ]
    }
   ],
   "source": [
    "# use the default sagemaker s3 bucket to store processed data\n",
    "# here we figure out what that default bucket name is \n",
    "sagemaker_session = sagemaker.Session()\n",
    "bucket_name = 'gcu-sg02-002'\n",
    "print(bucket_name)  \n",
    "# bucket name format: \"sagemaker-gacheon-{account 숫자}\"\n",
    "%store bucket_name"
   ]
  },
  {
   "cell_type": "code",
   "execution_count": 47,
   "id": "0ad543cc",
   "metadata": {},
   "outputs": [
    {
     "name": "stdout",
     "output_type": "stream",
     "text": [
      "mkdir: cannot create directory ‘data/s3’: File exists\r\n"
     ]
    },
    {
     "ename": "S3UploadFailedError",
     "evalue": "Failed to upload data/s3/train.npy to gcu-sg02-002/data/train.npy: An error occurred (AccessDenied) when calling the CreateMultipartUpload operation: Access Denied",
     "output_type": "error",
     "traceback": [
      "\u001b[0;31m---------------------------------------------------------------------------\u001b[0m",
      "\u001b[0;31mClientError\u001b[0m                               Traceback (most recent call last)",
      "File \u001b[0;32m~/anaconda3/envs/tensorflow2_p310/lib/python3.10/site-packages/boto3/s3/transfer.py:292\u001b[0m, in \u001b[0;36mS3Transfer.upload_file\u001b[0;34m(self, filename, bucket, key, callback, extra_args)\u001b[0m\n\u001b[1;32m    291\u001b[0m \u001b[38;5;28;01mtry\u001b[39;00m:\n\u001b[0;32m--> 292\u001b[0m     \u001b[43mfuture\u001b[49m\u001b[38;5;241;43m.\u001b[39;49m\u001b[43mresult\u001b[49m\u001b[43m(\u001b[49m\u001b[43m)\u001b[49m\n\u001b[1;32m    293\u001b[0m \u001b[38;5;66;03m# If a client error was raised, add the backwards compatibility layer\u001b[39;00m\n\u001b[1;32m    294\u001b[0m \u001b[38;5;66;03m# that raises a S3UploadFailedError. These specific errors were only\u001b[39;00m\n\u001b[1;32m    295\u001b[0m \u001b[38;5;66;03m# ever thrown for upload_parts but now can be thrown for any related\u001b[39;00m\n\u001b[1;32m    296\u001b[0m \u001b[38;5;66;03m# client error.\u001b[39;00m\n",
      "File \u001b[0;32m~/anaconda3/envs/tensorflow2_p310/lib/python3.10/site-packages/s3transfer/futures.py:103\u001b[0m, in \u001b[0;36mTransferFuture.result\u001b[0;34m(self)\u001b[0m\n\u001b[1;32m     99\u001b[0m \u001b[38;5;28;01mtry\u001b[39;00m:\n\u001b[1;32m    100\u001b[0m     \u001b[38;5;66;03m# Usually the result() method blocks until the transfer is done,\u001b[39;00m\n\u001b[1;32m    101\u001b[0m     \u001b[38;5;66;03m# however if a KeyboardInterrupt is raised we want want to exit\u001b[39;00m\n\u001b[1;32m    102\u001b[0m     \u001b[38;5;66;03m# out of this and propagate the exception.\u001b[39;00m\n\u001b[0;32m--> 103\u001b[0m     \u001b[38;5;28;01mreturn\u001b[39;00m \u001b[38;5;28;43mself\u001b[39;49m\u001b[38;5;241;43m.\u001b[39;49m\u001b[43m_coordinator\u001b[49m\u001b[38;5;241;43m.\u001b[39;49m\u001b[43mresult\u001b[49m\u001b[43m(\u001b[49m\u001b[43m)\u001b[49m\n\u001b[1;32m    104\u001b[0m \u001b[38;5;28;01mexcept\u001b[39;00m \u001b[38;5;167;01mKeyboardInterrupt\u001b[39;00m \u001b[38;5;28;01mas\u001b[39;00m e:\n",
      "File \u001b[0;32m~/anaconda3/envs/tensorflow2_p310/lib/python3.10/site-packages/s3transfer/futures.py:266\u001b[0m, in \u001b[0;36mTransferCoordinator.result\u001b[0;34m(self)\u001b[0m\n\u001b[1;32m    265\u001b[0m \u001b[38;5;28;01mif\u001b[39;00m \u001b[38;5;28mself\u001b[39m\u001b[38;5;241m.\u001b[39m_exception:\n\u001b[0;32m--> 266\u001b[0m     \u001b[38;5;28;01mraise\u001b[39;00m \u001b[38;5;28mself\u001b[39m\u001b[38;5;241m.\u001b[39m_exception\n\u001b[1;32m    267\u001b[0m \u001b[38;5;28;01mreturn\u001b[39;00m \u001b[38;5;28mself\u001b[39m\u001b[38;5;241m.\u001b[39m_result\n",
      "File \u001b[0;32m~/anaconda3/envs/tensorflow2_p310/lib/python3.10/site-packages/s3transfer/tasks.py:139\u001b[0m, in \u001b[0;36mTask.__call__\u001b[0;34m(self)\u001b[0m\n\u001b[1;32m    138\u001b[0m     \u001b[38;5;28;01mif\u001b[39;00m \u001b[38;5;129;01mnot\u001b[39;00m \u001b[38;5;28mself\u001b[39m\u001b[38;5;241m.\u001b[39m_transfer_coordinator\u001b[38;5;241m.\u001b[39mdone():\n\u001b[0;32m--> 139\u001b[0m         \u001b[38;5;28;01mreturn\u001b[39;00m \u001b[38;5;28;43mself\u001b[39;49m\u001b[38;5;241;43m.\u001b[39;49m\u001b[43m_execute_main\u001b[49m\u001b[43m(\u001b[49m\u001b[43mkwargs\u001b[49m\u001b[43m)\u001b[49m\n\u001b[1;32m    140\u001b[0m \u001b[38;5;28;01mexcept\u001b[39;00m \u001b[38;5;167;01mException\u001b[39;00m \u001b[38;5;28;01mas\u001b[39;00m e:\n",
      "File \u001b[0;32m~/anaconda3/envs/tensorflow2_p310/lib/python3.10/site-packages/s3transfer/tasks.py:162\u001b[0m, in \u001b[0;36mTask._execute_main\u001b[0;34m(self, kwargs)\u001b[0m\n\u001b[1;32m    160\u001b[0m logger\u001b[38;5;241m.\u001b[39mdebug(\u001b[38;5;124mf\u001b[39m\u001b[38;5;124m\"\u001b[39m\u001b[38;5;124mExecuting task \u001b[39m\u001b[38;5;132;01m{\u001b[39;00m\u001b[38;5;28mself\u001b[39m\u001b[38;5;132;01m}\u001b[39;00m\u001b[38;5;124m with kwargs \u001b[39m\u001b[38;5;132;01m{\u001b[39;00mkwargs_to_display\u001b[38;5;132;01m}\u001b[39;00m\u001b[38;5;124m\"\u001b[39m)\n\u001b[0;32m--> 162\u001b[0m return_value \u001b[38;5;241m=\u001b[39m \u001b[38;5;28;43mself\u001b[39;49m\u001b[38;5;241;43m.\u001b[39;49m\u001b[43m_main\u001b[49m\u001b[43m(\u001b[49m\u001b[38;5;241;43m*\u001b[39;49m\u001b[38;5;241;43m*\u001b[39;49m\u001b[43mkwargs\u001b[49m\u001b[43m)\u001b[49m\n\u001b[1;32m    163\u001b[0m \u001b[38;5;66;03m# If the task is the final task, then set the TransferFuture's\u001b[39;00m\n\u001b[1;32m    164\u001b[0m \u001b[38;5;66;03m# value to the return value from main().\u001b[39;00m\n",
      "File \u001b[0;32m~/anaconda3/envs/tensorflow2_p310/lib/python3.10/site-packages/s3transfer/tasks.py:348\u001b[0m, in \u001b[0;36mCreateMultipartUploadTask._main\u001b[0;34m(self, client, bucket, key, extra_args)\u001b[0m\n\u001b[1;32m    347\u001b[0m \u001b[38;5;66;03m# Create the multipart upload.\u001b[39;00m\n\u001b[0;32m--> 348\u001b[0m response \u001b[38;5;241m=\u001b[39m \u001b[43mclient\u001b[49m\u001b[38;5;241;43m.\u001b[39;49m\u001b[43mcreate_multipart_upload\u001b[49m\u001b[43m(\u001b[49m\n\u001b[1;32m    349\u001b[0m \u001b[43m    \u001b[49m\u001b[43mBucket\u001b[49m\u001b[38;5;241;43m=\u001b[39;49m\u001b[43mbucket\u001b[49m\u001b[43m,\u001b[49m\u001b[43m \u001b[49m\u001b[43mKey\u001b[49m\u001b[38;5;241;43m=\u001b[39;49m\u001b[43mkey\u001b[49m\u001b[43m,\u001b[49m\u001b[43m \u001b[49m\u001b[38;5;241;43m*\u001b[39;49m\u001b[38;5;241;43m*\u001b[39;49m\u001b[43mextra_args\u001b[49m\n\u001b[1;32m    350\u001b[0m \u001b[43m\u001b[49m\u001b[43m)\u001b[49m\n\u001b[1;32m    351\u001b[0m upload_id \u001b[38;5;241m=\u001b[39m response[\u001b[38;5;124m'\u001b[39m\u001b[38;5;124mUploadId\u001b[39m\u001b[38;5;124m'\u001b[39m]\n",
      "File \u001b[0;32m~/anaconda3/envs/tensorflow2_p310/lib/python3.10/site-packages/botocore/client.py:535\u001b[0m, in \u001b[0;36mClientCreator._create_api_method.<locals>._api_call\u001b[0;34m(self, *args, **kwargs)\u001b[0m\n\u001b[1;32m    534\u001b[0m \u001b[38;5;66;03m# The \"self\" in this scope is referring to the BaseClient.\u001b[39;00m\n\u001b[0;32m--> 535\u001b[0m \u001b[38;5;28;01mreturn\u001b[39;00m \u001b[38;5;28;43mself\u001b[39;49m\u001b[38;5;241;43m.\u001b[39;49m\u001b[43m_make_api_call\u001b[49m\u001b[43m(\u001b[49m\u001b[43moperation_name\u001b[49m\u001b[43m,\u001b[49m\u001b[43m \u001b[49m\u001b[43mkwargs\u001b[49m\u001b[43m)\u001b[49m\n",
      "File \u001b[0;32m~/anaconda3/envs/tensorflow2_p310/lib/python3.10/site-packages/botocore/client.py:983\u001b[0m, in \u001b[0;36mBaseClient._make_api_call\u001b[0;34m(self, operation_name, api_params)\u001b[0m\n\u001b[1;32m    982\u001b[0m     error_class \u001b[38;5;241m=\u001b[39m \u001b[38;5;28mself\u001b[39m\u001b[38;5;241m.\u001b[39mexceptions\u001b[38;5;241m.\u001b[39mfrom_code(error_code)\n\u001b[0;32m--> 983\u001b[0m     \u001b[38;5;28;01mraise\u001b[39;00m error_class(parsed_response, operation_name)\n\u001b[1;32m    984\u001b[0m \u001b[38;5;28;01melse\u001b[39;00m:\n",
      "\u001b[0;31mClientError\u001b[0m: An error occurred (AccessDenied) when calling the CreateMultipartUpload operation: Access Denied",
      "\nDuring handling of the above exception, another exception occurred:\n",
      "\u001b[0;31mS3UploadFailedError\u001b[0m                       Traceback (most recent call last)",
      "Cell \u001b[0;32mIn[47], line 11\u001b[0m\n\u001b[1;32m      8\u001b[0m np\u001b[38;5;241m.\u001b[39msave(test_path, df_test\u001b[38;5;241m.\u001b[39mvalues)\n\u001b[1;32m     10\u001b[0m \u001b[38;5;66;03m# upload to S3 bucket (see the bucket name above)\u001b[39;00m\n\u001b[0;32m---> 11\u001b[0m \u001b[43msagemaker_session\u001b[49m\u001b[38;5;241;43m.\u001b[39;49m\u001b[43mupload_data\u001b[49m\u001b[43m(\u001b[49m\u001b[43mtrain_path\u001b[49m\u001b[43m,\u001b[49m\u001b[43m \u001b[49m\u001b[43mbucket\u001b[49m\u001b[38;5;241;43m=\u001b[39;49m\u001b[43mbucket_name\u001b[49m\u001b[43m,\u001b[49m\u001b[43m \u001b[49m\u001b[43mkey_prefix\u001b[49m\u001b[38;5;241;43m=\u001b[39;49m\u001b[38;5;124;43m'\u001b[39;49m\u001b[38;5;124;43mdata\u001b[39;49m\u001b[38;5;124;43m'\u001b[39;49m\u001b[43m)\u001b[49m\n\u001b[1;32m     12\u001b[0m sagemaker_session\u001b[38;5;241m.\u001b[39mupload_data(test_path, bucket\u001b[38;5;241m=\u001b[39mbucket_name, key_prefix\u001b[38;5;241m=\u001b[39m\u001b[38;5;124m'\u001b[39m\u001b[38;5;124mdata\u001b[39m\u001b[38;5;124m'\u001b[39m)\n",
      "File \u001b[0;32m~/anaconda3/envs/tensorflow2_p310/lib/python3.10/site-packages/sagemaker/session.py:400\u001b[0m, in \u001b[0;36mSession.upload_data\u001b[0;34m(self, path, bucket, key_prefix, extra_args)\u001b[0m\n\u001b[1;32m    397\u001b[0m     s3 \u001b[38;5;241m=\u001b[39m \u001b[38;5;28mself\u001b[39m\u001b[38;5;241m.\u001b[39ms3_resource\n\u001b[1;32m    399\u001b[0m \u001b[38;5;28;01mfor\u001b[39;00m local_path, s3_key \u001b[38;5;129;01min\u001b[39;00m files:\n\u001b[0;32m--> 400\u001b[0m     \u001b[43ms3\u001b[49m\u001b[38;5;241;43m.\u001b[39;49m\u001b[43mObject\u001b[49m\u001b[43m(\u001b[49m\u001b[43mbucket\u001b[49m\u001b[43m,\u001b[49m\u001b[43m \u001b[49m\u001b[43ms3_key\u001b[49m\u001b[43m)\u001b[49m\u001b[38;5;241;43m.\u001b[39;49m\u001b[43mupload_file\u001b[49m\u001b[43m(\u001b[49m\u001b[43mlocal_path\u001b[49m\u001b[43m,\u001b[49m\u001b[43m \u001b[49m\u001b[43mExtraArgs\u001b[49m\u001b[38;5;241;43m=\u001b[39;49m\u001b[43mextra_args\u001b[49m\u001b[43m)\u001b[49m\n\u001b[1;32m    402\u001b[0m s3_uri \u001b[38;5;241m=\u001b[39m \u001b[38;5;124m\"\u001b[39m\u001b[38;5;124ms3://\u001b[39m\u001b[38;5;132;01m{}\u001b[39;00m\u001b[38;5;124m/\u001b[39m\u001b[38;5;132;01m{}\u001b[39;00m\u001b[38;5;124m\"\u001b[39m\u001b[38;5;241m.\u001b[39mformat(bucket, key_prefix)\n\u001b[1;32m    403\u001b[0m \u001b[38;5;66;03m# If a specific file was used as input (instead of a directory), we return the full S3 key\u001b[39;00m\n\u001b[1;32m    404\u001b[0m \u001b[38;5;66;03m# of the uploaded object. This prevents unintentionally using other files under the same\u001b[39;00m\n\u001b[1;32m    405\u001b[0m \u001b[38;5;66;03m# prefix during training.\u001b[39;00m\n",
      "File \u001b[0;32m~/anaconda3/envs/tensorflow2_p310/lib/python3.10/site-packages/boto3/s3/inject.py:318\u001b[0m, in \u001b[0;36mobject_upload_file\u001b[0;34m(self, Filename, ExtraArgs, Callback, Config)\u001b[0m\n\u001b[1;32m    287\u001b[0m \u001b[38;5;28;01mdef\u001b[39;00m \u001b[38;5;21mobject_upload_file\u001b[39m(\n\u001b[1;32m    288\u001b[0m     \u001b[38;5;28mself\u001b[39m, Filename, ExtraArgs\u001b[38;5;241m=\u001b[39m\u001b[38;5;28;01mNone\u001b[39;00m, Callback\u001b[38;5;241m=\u001b[39m\u001b[38;5;28;01mNone\u001b[39;00m, Config\u001b[38;5;241m=\u001b[39m\u001b[38;5;28;01mNone\u001b[39;00m\n\u001b[1;32m    289\u001b[0m ):\n\u001b[1;32m    290\u001b[0m \u001b[38;5;250m    \u001b[39m\u001b[38;5;124;03m\"\"\"Upload a file to an S3 object.\u001b[39;00m\n\u001b[1;32m    291\u001b[0m \n\u001b[1;32m    292\u001b[0m \u001b[38;5;124;03m    Usage::\u001b[39;00m\n\u001b[0;32m   (...)\u001b[0m\n\u001b[1;32m    316\u001b[0m \u001b[38;5;124;03m        transfer.\u001b[39;00m\n\u001b[1;32m    317\u001b[0m \u001b[38;5;124;03m    \"\"\"\u001b[39;00m\n\u001b[0;32m--> 318\u001b[0m     \u001b[38;5;28;01mreturn\u001b[39;00m \u001b[38;5;28;43mself\u001b[39;49m\u001b[38;5;241;43m.\u001b[39;49m\u001b[43mmeta\u001b[49m\u001b[38;5;241;43m.\u001b[39;49m\u001b[43mclient\u001b[49m\u001b[38;5;241;43m.\u001b[39;49m\u001b[43mupload_file\u001b[49m\u001b[43m(\u001b[49m\n\u001b[1;32m    319\u001b[0m \u001b[43m        \u001b[49m\u001b[43mFilename\u001b[49m\u001b[38;5;241;43m=\u001b[39;49m\u001b[43mFilename\u001b[49m\u001b[43m,\u001b[49m\n\u001b[1;32m    320\u001b[0m \u001b[43m        \u001b[49m\u001b[43mBucket\u001b[49m\u001b[38;5;241;43m=\u001b[39;49m\u001b[38;5;28;43mself\u001b[39;49m\u001b[38;5;241;43m.\u001b[39;49m\u001b[43mbucket_name\u001b[49m\u001b[43m,\u001b[49m\n\u001b[1;32m    321\u001b[0m \u001b[43m        \u001b[49m\u001b[43mKey\u001b[49m\u001b[38;5;241;43m=\u001b[39;49m\u001b[38;5;28;43mself\u001b[39;49m\u001b[38;5;241;43m.\u001b[39;49m\u001b[43mkey\u001b[49m\u001b[43m,\u001b[49m\n\u001b[1;32m    322\u001b[0m \u001b[43m        \u001b[49m\u001b[43mExtraArgs\u001b[49m\u001b[38;5;241;43m=\u001b[39;49m\u001b[43mExtraArgs\u001b[49m\u001b[43m,\u001b[49m\n\u001b[1;32m    323\u001b[0m \u001b[43m        \u001b[49m\u001b[43mCallback\u001b[49m\u001b[38;5;241;43m=\u001b[39;49m\u001b[43mCallback\u001b[49m\u001b[43m,\u001b[49m\n\u001b[1;32m    324\u001b[0m \u001b[43m        \u001b[49m\u001b[43mConfig\u001b[49m\u001b[38;5;241;43m=\u001b[39;49m\u001b[43mConfig\u001b[49m\u001b[43m,\u001b[49m\n\u001b[1;32m    325\u001b[0m \u001b[43m    \u001b[49m\u001b[43m)\u001b[49m\n",
      "File \u001b[0;32m~/anaconda3/envs/tensorflow2_p310/lib/python3.10/site-packages/boto3/s3/inject.py:143\u001b[0m, in \u001b[0;36mupload_file\u001b[0;34m(self, Filename, Bucket, Key, ExtraArgs, Callback, Config)\u001b[0m\n\u001b[1;32m    108\u001b[0m \u001b[38;5;250m\u001b[39m\u001b[38;5;124;03m\"\"\"Upload a file to an S3 object.\u001b[39;00m\n\u001b[1;32m    109\u001b[0m \n\u001b[1;32m    110\u001b[0m \u001b[38;5;124;03mUsage::\u001b[39;00m\n\u001b[0;32m   (...)\u001b[0m\n\u001b[1;32m    140\u001b[0m \u001b[38;5;124;03m    transfer.\u001b[39;00m\n\u001b[1;32m    141\u001b[0m \u001b[38;5;124;03m\"\"\"\u001b[39;00m\n\u001b[1;32m    142\u001b[0m \u001b[38;5;28;01mwith\u001b[39;00m S3Transfer(\u001b[38;5;28mself\u001b[39m, Config) \u001b[38;5;28;01mas\u001b[39;00m transfer:\n\u001b[0;32m--> 143\u001b[0m     \u001b[38;5;28;01mreturn\u001b[39;00m \u001b[43mtransfer\u001b[49m\u001b[38;5;241;43m.\u001b[39;49m\u001b[43mupload_file\u001b[49m\u001b[43m(\u001b[49m\n\u001b[1;32m    144\u001b[0m \u001b[43m        \u001b[49m\u001b[43mfilename\u001b[49m\u001b[38;5;241;43m=\u001b[39;49m\u001b[43mFilename\u001b[49m\u001b[43m,\u001b[49m\n\u001b[1;32m    145\u001b[0m \u001b[43m        \u001b[49m\u001b[43mbucket\u001b[49m\u001b[38;5;241;43m=\u001b[39;49m\u001b[43mBucket\u001b[49m\u001b[43m,\u001b[49m\n\u001b[1;32m    146\u001b[0m \u001b[43m        \u001b[49m\u001b[43mkey\u001b[49m\u001b[38;5;241;43m=\u001b[39;49m\u001b[43mKey\u001b[49m\u001b[43m,\u001b[49m\n\u001b[1;32m    147\u001b[0m \u001b[43m        \u001b[49m\u001b[43mextra_args\u001b[49m\u001b[38;5;241;43m=\u001b[39;49m\u001b[43mExtraArgs\u001b[49m\u001b[43m,\u001b[49m\n\u001b[1;32m    148\u001b[0m \u001b[43m        \u001b[49m\u001b[43mcallback\u001b[49m\u001b[38;5;241;43m=\u001b[39;49m\u001b[43mCallback\u001b[49m\u001b[43m,\u001b[49m\n\u001b[1;32m    149\u001b[0m \u001b[43m    \u001b[49m\u001b[43m)\u001b[49m\n",
      "File \u001b[0;32m~/anaconda3/envs/tensorflow2_p310/lib/python3.10/site-packages/boto3/s3/transfer.py:298\u001b[0m, in \u001b[0;36mS3Transfer.upload_file\u001b[0;34m(self, filename, bucket, key, callback, extra_args)\u001b[0m\n\u001b[1;32m    293\u001b[0m \u001b[38;5;66;03m# If a client error was raised, add the backwards compatibility layer\u001b[39;00m\n\u001b[1;32m    294\u001b[0m \u001b[38;5;66;03m# that raises a S3UploadFailedError. These specific errors were only\u001b[39;00m\n\u001b[1;32m    295\u001b[0m \u001b[38;5;66;03m# ever thrown for upload_parts but now can be thrown for any related\u001b[39;00m\n\u001b[1;32m    296\u001b[0m \u001b[38;5;66;03m# client error.\u001b[39;00m\n\u001b[1;32m    297\u001b[0m \u001b[38;5;28;01mexcept\u001b[39;00m ClientError \u001b[38;5;28;01mas\u001b[39;00m e:\n\u001b[0;32m--> 298\u001b[0m     \u001b[38;5;28;01mraise\u001b[39;00m S3UploadFailedError(\n\u001b[1;32m    299\u001b[0m         \u001b[38;5;124m\"\u001b[39m\u001b[38;5;124mFailed to upload \u001b[39m\u001b[38;5;132;01m{}\u001b[39;00m\u001b[38;5;124m to \u001b[39m\u001b[38;5;132;01m{}\u001b[39;00m\u001b[38;5;124m: \u001b[39m\u001b[38;5;132;01m{}\u001b[39;00m\u001b[38;5;124m\"\u001b[39m\u001b[38;5;241m.\u001b[39mformat(\n\u001b[1;32m    300\u001b[0m             filename, \u001b[38;5;124m'\u001b[39m\u001b[38;5;124m/\u001b[39m\u001b[38;5;124m'\u001b[39m\u001b[38;5;241m.\u001b[39mjoin([bucket, key]), e\n\u001b[1;32m    301\u001b[0m         )\n\u001b[1;32m    302\u001b[0m     )\n",
      "\u001b[0;31mS3UploadFailedError\u001b[0m: Failed to upload data/s3/train.npy to gcu-sg02-002/data/train.npy: An error occurred (AccessDenied) when calling the CreateMultipartUpload operation: Access Denied"
     ]
    }
   ],
   "source": [
    "# save data locally first\n",
    "dest = 'data/s3'\n",
    "train_path = os.path.join(dest, 'train.npy')\n",
    "test_path = os.path.join(dest, 'test.npy')\n",
    "\n",
    "!mkdir {dest}\n",
    "np.save(train_path, df_train.values)\n",
    "np.save(test_path, df_test.values)\n",
    "\n",
    "# upload to S3 bucket (see the bucket name above)\n",
    "sagemaker_session.upload_data(train_path, bucket=bucket_name, key_prefix='data')\n",
    "sagemaker_session.upload_data(test_path, bucket=bucket_name, key_prefix='data')"
   ]
  },
  {
   "cell_type": "code",
   "execution_count": null,
   "id": "751e38f2",
   "metadata": {},
   "outputs": [],
   "source": []
  },
  {
   "cell_type": "code",
   "execution_count": null,
   "id": "b69b67f1",
   "metadata": {},
   "outputs": [],
   "source": []
  },
  {
   "cell_type": "code",
   "execution_count": 6,
   "id": "479c2ac1",
   "metadata": {},
   "outputs": [
    {
     "name": "stdout",
     "output_type": "stream",
     "text": [
      "Stored 'rating_matrix_df' (DataFrame)\n",
      "Stored 'user_similarity_df' (DataFrame)\n"
     ]
    }
   ],
   "source": [
    "# pivot_table 메소드를 사용하여 rating matrix 생성\n",
    "rating_matrix_df = filtered_df.pivot_table(values='rating', index='user', columns='business', fill_value=0)\n",
    "\n",
    "# csr_matrix를 이용하여 sparse matrix로 변환\n",
    "rating_matrix = csr_matrix(rating_matrix_df.values)\n",
    "\n",
    "# 피어슨 상관계수를 이용해 유사도를 계산 \n",
    "def pearson_similarity(matrix):\n",
    "    matrix = matrix.toarray()  # Transpose matrix for user-based similarities\n",
    "    similarity_matrix = 1 - pairwise_distances(matrix, metric=\"correlation\", n_jobs=-1)  # Use multiple CPU cores for faster computation\n",
    "    return similarity_matrix\n",
    "\n",
    "# user 간의 피어슨 유사도 계산\n",
    "user_similarity = pearson_similarity(rating_matrix)\n",
    "\n",
    "# 피어슨 유사도를 유저들 간의 유사도를 나타내는 데이터프레임 형태로 변환\n",
    "user_similarity_df = pd.DataFrame(user_similarity, index=rating_matrix_df.index, columns=rating_matrix_df.index)\n",
    "\n",
    "%store rating_matrix_df\n",
    "%store user_similarity_df"
   ]
  },
  {
   "cell_type": "code",
   "execution_count": 7,
   "id": "00751a23",
   "metadata": {},
   "outputs": [],
   "source": [
    "# # 메모리 사용량 확인\n",
    "# memory_usage = filtered_df.memory_usage(deep=True).sum()\n",
    "# print(\"DataFrame의 메모리 사용량:\", memory_usage / (1024**2), \"MB\")"
   ]
  },
  {
   "cell_type": "code",
   "execution_count": 8,
   "id": "566bb768",
   "metadata": {},
   "outputs": [],
   "source": [
    "# Surprise Reader 정의 (평점의 범위를 지정해줘야 함)\n",
    "reader = Reader(rating_scale=(1, 5))"
   ]
  },
  {
   "cell_type": "code",
   "execution_count": 9,
   "id": "71bceaa9",
   "metadata": {},
   "outputs": [],
   "source": [
    "# 데이터를 Surprise 형식으로 로딩\n",
    "data = Dataset.load_from_df(filtered_df[['user', 'business', 'rating']], reader)"
   ]
  },
  {
   "cell_type": "code",
   "execution_count": 10,
   "id": "c0cf921f",
   "metadata": {
    "scrolled": true
   },
   "outputs": [
    {
     "name": "stdout",
     "output_type": "stream",
     "text": [
      "Computing the cosine similarity matrix...\n",
      "Done computing similarity matrix.\n",
      "Computing the cosine similarity matrix...\n",
      "Done computing similarity matrix.\n",
      "Computing the cosine similarity matrix...\n",
      "Done computing similarity matrix.\n",
      "Computing the cosine similarity matrix...\n",
      "Done computing similarity matrix.\n",
      "Computing the cosine similarity matrix...\n",
      "Done computing similarity matrix.\n",
      "Evaluating RMSE, MAE of algorithm KNNBasic on 5 split(s).\n",
      "\n",
      "                  Fold 1  Fold 2  Fold 3  Fold 4  Fold 5  Mean    Std     \n",
      "RMSE (testset)    0.9744  0.9772  0.9758  0.9720  0.9736  0.9746  0.0018  \n",
      "MAE (testset)     0.7668  0.7670  0.7674  0.7643  0.7616  0.7654  0.0022  \n",
      "Fit time          2.17    2.31    2.53    2.33    2.52    2.37    0.14    \n",
      "Test time         3.62    3.24    3.78    3.64    4.05    3.67    0.26    \n",
      "test_rmse: 0.9746070872223832\n",
      "test_mae: 0.7654274623966686\n"
     ]
    }
   ],
   "source": [
    "# KFold를 사용한 cross-validation 설정\n",
    "kf = KFold(n_splits=5, random_state=42, shuffle=True)\n",
    "\n",
    "# KNNBasic 알고리즘 생성 (유사도 측정 방법 'cosine'를 사용, n_epochs를 지정)\n",
    "model = KNNBasic(sim_options={'name': 'cosine', 'user_based': True}, n_epochs=20)\n",
    "\n",
    "# cross-validation을 통한 모델 성능 평가\n",
    "results = cross_validate(model, data, measures=['RMSE', 'MAE'], cv=kf, verbose=True)\n",
    "\n",
    "# cross-validation 결과 출력\n",
    "for measure in ['test_rmse', 'test_mae']:\n",
    "    print(f\"{measure}: {results[measure].mean()}\")"
   ]
  },
  {
   "cell_type": "code",
   "execution_count": 11,
   "id": "6ee8da22",
   "metadata": {},
   "outputs": [],
   "source": [
    "# 가장 성능이 좋은 폴드의 모델을 선택\n",
    "best_fold_idx = results['test_rmse'].argmin()\n",
    "best_model = model"
   ]
  },
  {
   "cell_type": "code",
   "execution_count": 12,
   "id": "f29ced89",
   "metadata": {
    "scrolled": true
   },
   "outputs": [
    {
     "name": "stdout",
     "output_type": "stream",
     "text": [
      "Computing the cosine similarity matrix...\n",
      "Done computing similarity matrix.\n"
     ]
    },
    {
     "data": {
      "text/plain": [
       "<surprise.prediction_algorithms.knns.KNNBasic at 0x7f57f250f580>"
      ]
     },
     "execution_count": 12,
     "metadata": {},
     "output_type": "execute_result"
    }
   ],
   "source": [
    "# 선택된 모델로 전체 데이터에 대해 훈련\n",
    "trainset = data.build_full_trainset()\n",
    "best_model.fit(trainset)"
   ]
  },
  {
   "cell_type": "code",
   "execution_count": 21,
   "id": "a14ec9ea",
   "metadata": {
    "scrolled": true
   },
   "outputs": [
    {
     "name": "stdout",
     "output_type": "stream",
     "text": [
      "business  7185   7239   7330   7332   7341   7351   7377   7406   7421   \\\n",
      "user                                                                      \n",
      "118           0      0      0      0      0      0      0      0      0   \n",
      "128           0      0      0      0      0      0      0      0      0   \n",
      "184           0      0      0      0      0      0      0      0      0   \n",
      "199           0      4      0      0      0      0      0      0      0   \n",
      "204           0      5      0      0      0      0      0      0      0   \n",
      "...         ...    ...    ...    ...    ...    ...    ...    ...    ...   \n",
      "1244522       0      0      0      0      0      0      0      0      0   \n",
      "1248454       0      0      0      0      0      0      0      0      0   \n",
      "1311498       0      0      0      0      0      0      0      0      0   \n",
      "1362023       0      0      0      0      0      0      0      0      0   \n",
      "1997603       0      0      0      0      0      0      0      0      0   \n",
      "\n",
      "business  7422   ...  80603  80604  80605  80607  80611  80612  80617  80627  \\\n",
      "user             ...                                                           \n",
      "118           0  ...      0      0      0      0      0      0      0      0   \n",
      "128           0  ...      0      0      0      0      0      0      0      0   \n",
      "184           0  ...      0      0      0      0      0      0      0      0   \n",
      "199           0  ...      0      0      0      0      0      0      0      0   \n",
      "204           0  ...      0      0      0      0      0      0      0      0   \n",
      "...         ...  ...    ...    ...    ...    ...    ...    ...    ...    ...   \n",
      "1244522       0  ...      0      0      0      0      0      0      0      0   \n",
      "1248454       0  ...      0      0      0      0      0      0      0      0   \n",
      "1311498       0  ...      0      0      0      0      0      0      0      0   \n",
      "1362023       0  ...      0      0      0      0      5      0      0      0   \n",
      "1997603       0  ...      0      0      0      0      0      0      0      0   \n",
      "\n",
      "business  80632  80633  \n",
      "user                    \n",
      "118           0      0  \n",
      "128           0      0  \n",
      "184           0      0  \n",
      "199           0      0  \n",
      "204           0      0  \n",
      "...         ...    ...  \n",
      "1244522       0      0  \n",
      "1248454       0      0  \n",
      "1311498       0      0  \n",
      "1362023       0      0  \n",
      "1997603       0      0  \n",
      "\n",
      "[4999 rows x 5000 columns]\n",
      "user      118       128       184       199       204       207       208      \\\n",
      "user                                                                            \n",
      "118      1.000000  0.018638 -0.006188 -0.009617 -0.010486 -0.010399 -0.008420   \n",
      "128      0.018638  1.000000 -0.007366 -0.011448  0.001166 -0.012379 -0.010023   \n",
      "184     -0.006188 -0.007366  1.000000  0.169001  0.118183  0.141335  0.172477   \n",
      "199     -0.009617 -0.011448  0.169001  1.000000  0.214730  0.196783  0.290363   \n",
      "204     -0.010486  0.001166  0.118183  0.214730  1.000000  0.234895  0.123159   \n",
      "...           ...       ...       ...       ...       ...       ...       ...   \n",
      "1244522  0.031773 -0.007534 -0.004807 -0.007472  0.004089 -0.008079 -0.006542   \n",
      "1248454 -0.008177 -0.009734  0.096247  0.132000  0.079772  0.098984  0.113700   \n",
      "1311498 -0.006960 -0.008286 -0.005287 -0.008217 -0.008959 -0.008884 -0.007194   \n",
      "1362023 -0.007229 -0.008606 -0.005491 -0.008534 -0.009305 -0.009228 -0.007472   \n",
      "1997603 -0.008482 -0.010097 -0.006442 -0.010013 -0.010917 -0.010826 -0.008766   \n",
      "\n",
      "user      215       240       255      ...   1044485   1045226   1071776  \\\n",
      "user                                   ...                                 \n",
      "118     -0.011141 -0.008851 -0.005551  ... -0.007092 -0.007809 -0.007679   \n",
      "128     -0.013263 -0.010536 -0.006608  ... -0.008442 -0.009296 -0.009142   \n",
      "184      0.136472 -0.006723 -0.004217  ... -0.005387  0.121103 -0.005833   \n",
      "199      0.334213 -0.010449 -0.006553  ... -0.008372  0.264435 -0.009065   \n",
      "204      0.228582 -0.011393 -0.007146  ...  0.029554  0.119621 -0.009884   \n",
      "...           ...       ...       ...  ...       ...       ...       ...   \n",
      "1244522 -0.008656 -0.006876 -0.004313  ...  0.034606  0.018759 -0.005966   \n",
      "1248454  0.129786 -0.008884 -0.005572  ... -0.007118  0.130511 -0.007708   \n",
      "1311498 -0.009519 -0.007562 -0.004743  ...  0.033611 -0.006672 -0.006561   \n",
      "1362023 -0.009887  0.027298 -0.004926  ...  0.033671 -0.006930  0.034774   \n",
      "1997603 -0.011600 -0.009215 -0.005780  ...  0.053976 -0.008130  0.026708   \n",
      "\n",
      "user      1091248   1137945   1244522   1248454   1311498   1362023   1997603  \n",
      "user                                                                           \n",
      "118     -0.007133 -0.005536  0.031773 -0.008177 -0.006960 -0.007229 -0.008482  \n",
      "128     -0.008491 -0.006590 -0.007534 -0.009734 -0.008286 -0.008606 -0.010097  \n",
      "184     -0.005418 -0.004205 -0.004807  0.096247 -0.005287 -0.005491 -0.006442  \n",
      "199     -0.008421 -0.006535 -0.007472  0.132000 -0.008217 -0.008534 -0.010013  \n",
      "204     -0.009181  0.054072  0.004089  0.079772 -0.008959 -0.009305 -0.010917  \n",
      "...           ...       ...       ...       ...       ...       ...       ...  \n",
      "1244522 -0.005542  0.087087  1.000000 -0.006352 -0.005407  0.012586 -0.006589  \n",
      "1248454 -0.007159 -0.005556 -0.006352  1.000000 -0.006986 -0.007256 -0.008513  \n",
      "1311498 -0.006094 -0.004730 -0.005407 -0.006986  1.000000 -0.006177 -0.007247  \n",
      "1362023 -0.006330  0.015897  0.012586 -0.007256 -0.006177  1.000000  0.036354  \n",
      "1997603 -0.007426 -0.005764 -0.006589 -0.008513 -0.007247  0.036354  1.000000  \n",
      "\n",
      "[4999 rows x 4999 columns]\n"
     ]
    }
   ],
   "source": [
    "print(rating_matrix_df)\n",
    "print(user_similarity_df)"
   ]
  },
  {
   "cell_type": "code",
   "execution_count": 27,
   "id": "48337b47",
   "metadata": {},
   "outputs": [
    {
     "name": "stdout",
     "output_type": "stream",
     "text": [
      "Predicted rating for business 7185: 4.225025169869379\n",
      "Predicted rating for business 7239: 4.225025169869379\n",
      "Predicted rating for business 7330: 4.225025169869379\n",
      "Predicted rating for business 7332: 4.225025169869379\n",
      "Predicted rating for business 7341: 4.225025169869379\n"
     ]
    }
   ],
   "source": [
    "# 예시: 0번 유저에 대해 5개의 비즈니스에 대한 평점 예측\n",
    "user_id_to_predict = 21788908987\n",
    "items_to_predict = rating_matrix_df.columns[:5]  # 상위 5개의 비즈니스\n",
    "for item_id in items_to_predict:\n",
    "    prediction = best_model.predict(user_id_to_predict, item_id)\n",
    "    print(f\"Predicted rating for business {item_id}: {prediction.est}\")"
   ]
  }
 ],
 "metadata": {
  "kernelspec": {
   "display_name": "conda_tensorflow2_p310",
   "language": "python",
   "name": "conda_tensorflow2_p310"
  },
  "language_info": {
   "codemirror_mode": {
    "name": "ipython",
    "version": 3
   },
   "file_extension": ".py",
   "mimetype": "text/x-python",
   "name": "python",
   "nbconvert_exporter": "python",
   "pygments_lexer": "ipython3",
   "version": "3.10.13"
  }
 },
 "nbformat": 4,
 "nbformat_minor": 5
}
